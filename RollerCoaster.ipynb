{
  "nbformat": 4,
  "nbformat_minor": 0,
  "metadata": {
    "colab": {
      "provenance": [],
      "authorship_tag": "ABX9TyM/CjnKiemZMR8w5YIBzsjG",
      "include_colab_link": true
    },
    "kernelspec": {
      "name": "python3",
      "display_name": "Python 3"
    },
    "language_info": {
      "name": "python"
    }
  },
  "cells": [
    {
      "cell_type": "markdown",
      "metadata": {
        "id": "view-in-github",
        "colab_type": "text"
      },
      "source": [
        "<a href=\"https://colab.research.google.com/github/Bhanuprasadh/Python_Projects/blob/main/RollerCoaster.ipynb\" target=\"_parent\"><img src=\"https://colab.research.google.com/assets/colab-badge.svg\" alt=\"Open In Colab\"/></a>"
      ]
    },
    {
      "cell_type": "code",
      "execution_count": 3,
      "metadata": {
        "colab": {
          "base_uri": "https://localhost:8080/"
        },
        "id": "wqa9j6sqN6Bu",
        "outputId": "f8a937f9-9e71-4949-f834-0d568d8eaefc"
      },
      "outputs": [
        {
          "output_type": "stream",
          "name": "stdout",
          "text": [
            "Welcome to the Roller Coaster\n",
            "Enter Your Height - 170\n",
            "Enter Your Age - 20\n",
            "You Can Ride the Roller Coaster\n",
            "Adult tickets are 500 Rupees\n",
            "Do you want to take photo Yes or No - Yes\n",
            "Your Final bill is 550\n"
          ]
        }
      ],
      "source": [
        "print(\"Welcome to the Roller Coaster\")\n",
        "Height = int(input(\"Enter Your Height - \"))\n",
        "Age = int(input(\"Enter Your Age - \"))\n",
        "\n",
        "bill = 0\n",
        "\n",
        "\n",
        "if Height >= 120:\n",
        "    print(\"You Can Ride the Roller Coaster\")\n",
        "    if Age<12:\n",
        "        bill = 250\n",
        "        print(\"child tickets are 250 Rupees\")\n",
        "    elif 12<Age<18:\n",
        "        bill = 350\n",
        "        print(\"Youth tickets are 350 Rupees\")\n",
        "    else:\n",
        "        bill = 500\n",
        "        print(\"Adult tickets are 500 Rupees\")\n",
        "\n",
        "    wants_photo = input(\"Do you want to take photo Yes or No - \")\n",
        "    if wants_photo == \"Yes\":\n",
        "        bill += 50\n",
        "\n",
        "        print(f\"Your Final bill is {bill}\")\n",
        "else:\n",
        "    print(\"You Can not Ride the Roller Coaster\")"
      ]
    }
  ]
}