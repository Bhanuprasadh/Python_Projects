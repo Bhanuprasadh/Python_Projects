{
  "nbformat": 4,
  "nbformat_minor": 0,
  "metadata": {
    "colab": {
      "provenance": [],
      "authorship_tag": "ABX9TyN1IyWlMy+hg+vt9bqjg1PW"
    },
    "kernelspec": {
      "name": "python3",
      "display_name": "Python 3"
    },
    "language_info": {
      "name": "python"
    }
  },
  "cells": [
    {
      "cell_type": "code",
      "execution_count": 1,
      "metadata": {
        "colab": {
          "base_uri": "https://localhost:8080/"
        },
        "id": "wqa9j6sqN6Bu",
        "outputId": "f5069bb4-64bb-49a2-acd1-c8a5feb8e270"
      },
      "outputs": [
        {
          "output_type": "stream",
          "name": "stdout",
          "text": [
            "Welcome to the Roller Coaster\n",
            "Enter Your Height - 170\n",
            "Enter Your Age - 20\n",
            "You Can Ride the Roller Coaster\n",
            "Adult tickets are 500 Rupees\n",
            "Do you want to take photo Yes or NoYes\n",
            "Your Final bill is 550\n"
          ]
        }
      ],
      "source": [
        "print(\"Welcome to the Roller Coaster\")\n",
        "Height = int(input(\"Enter Your Height - \"))\n",
        "Age = int(input(\"Enter Your Age - \"))\n",
        "\n",
        "bill = 0\n",
        "\n",
        "\n",
        "if Height >= 120:\n",
        "    print(\"You Can Ride the Roller Coaster\")\n",
        "    if Age<12:\n",
        "        bill = 250\n",
        "        print(\"child tickets are 250 Rupees\")\n",
        "    elif 12<Age<18:\n",
        "        bill = 350\n",
        "        print(\"Youth tickets are 350 Rupees\")\n",
        "    else:\n",
        "        bill = 500\n",
        "        print(\"Adult tickets are 500 Rupees\")\n",
        "\n",
        "    wants_photo = input(\"Do you want to take photo Yes or No\")\n",
        "    if wants_photo == \"Yes\":\n",
        "        bill += 50\n",
        "\n",
        "        print(f\"Your Final bill is {bill}\")\n",
        "else:\n",
        "    print(\"You Can not Ride the Roller Coaster\")"
      ]
    },
    {
      "cell_type": "code",
      "source": [],
      "metadata": {
        "id": "x3GoK8FcieZs"
      },
      "execution_count": null,
      "outputs": []
    }
  ]
}