{
  "nbformat": 4,
  "nbformat_minor": 0,
  "metadata": {
    "colab": {
      "provenance": [],
      "authorship_tag": "ABX9TyNyN4pCdLhSgcCKv2M9oNn8",
      "include_colab_link": true
    },
    "kernelspec": {
      "name": "python3",
      "display_name": "Python 3"
    },
    "language_info": {
      "name": "python"
    }
  },
  "cells": [
    {
      "cell_type": "markdown",
      "metadata": {
        "id": "view-in-github",
        "colab_type": "text"
      },
      "source": [
        "<a href=\"https://colab.research.google.com/github/Bhanuprasadh/Python_Projects/blob/main/BMI_Calculator.ipynb\" target=\"_parent\"><img src=\"https://colab.research.google.com/assets/colab-badge.svg\" alt=\"Open In Colab\"/></a>"
      ]
    },
    {
      "cell_type": "code",
      "execution_count": 3,
      "metadata": {
        "colab": {
          "base_uri": "https://localhost:8080/"
        },
        "id": "wqa9j6sqN6Bu",
        "outputId": "071dd92e-b1c8-440e-d4c7-1b86cc60d579"
      },
      "outputs": [
        {
          "output_type": "stream",
          "name": "stdout",
          "text": [
            "1.798\n",
            "55\n",
            "Your BMI is 17.013094514854597,you are underweight.\n"
          ]
        }
      ],
      "source": [
        "# Enter your height in meters e.g., 1.55\n",
        "height = float(input())\n",
        "\n",
        "# Enter your weight in kilograms e.g., 72\n",
        "weight = int(input())\n",
        "\n",
        "\n",
        "BMI = weight/(height*height)\n",
        "\n",
        "if BMI < 18.5:\n",
        "  print(f\"Your BMI is {BMI},you are underweight.\")\n",
        "elif 18.5<BMI<25:\n",
        "  print(f\"Your BMI is {BMI}, you have a normal weight.\")\n",
        "elif BMI>=25 and BMI<30:\n",
        "  print(f\"Your BMI is {BMI}, you are slightly overweight.\")\n",
        "elif BMI>= 30 and BMI<35:\n",
        "  print(f\"Your BMI is {BMI}, you are obese.\")\n",
        "else:\n",
        "  print(f\"Your BMI is {BMI}, you are clinically obese.\")"
      ]
    },
    {
      "cell_type": "code",
      "source": [],
      "metadata": {
        "id": "x3GoK8FcieZs"
      },
      "execution_count": null,
      "outputs": []
    }
  ]
}